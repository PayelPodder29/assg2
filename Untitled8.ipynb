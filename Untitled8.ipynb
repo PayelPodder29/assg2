{
  "nbformat": 4,
  "nbformat_minor": 0,
  "metadata": {
    "colab": {
      "provenance": [],
      "authorship_tag": "ABX9TyNn7ytqlMFB7IlKzMpf2VGg",
      "include_colab_link": true
    },
    "kernelspec": {
      "name": "python3",
      "display_name": "Python 3"
    },
    "language_info": {
      "name": "python"
    }
  },
  "cells": [
    {
      "cell_type": "markdown",
      "metadata": {
        "id": "view-in-github",
        "colab_type": "text"
      },
      "source": [
        "<a href=\"https://colab.research.google.com/github/PayelPodder29/assg2/blob/main/Untitled8.ipynb\" target=\"_parent\"><img src=\"https://colab.research.google.com/assets/colab-badge.svg\" alt=\"Open In Colab\"/></a>"
      ]
    },
    {
      "cell_type": "code",
      "execution_count": null,
      "metadata": {
        "colab": {
          "base_uri": "https://localhost:8080/"
        },
        "id": "GLGsmIHm-iOP",
        "outputId": "12ff6fab-2d9d-4bb4-f04d-e0d997ceea1a"
      },
      "outputs": [
        {
          "name": "stdout",
          "output_type": "stream",
          "text": [
            "Enter the prices of the smartphone over time (comma-separated): 500\n"
          ]
        }
      ],
      "source": [
        "import matplotlib.pyplot as plt\n",
        "\n",
        "# Agent parameters\n",
        "average_price = 600  # average price of the smartphone\n",
        "critical_stock_level = 10  # critical stock threshold\n",
        "threshold_discount = 0.2  # 20% discount\n",
        "minimum_order_quantity = 10  # minimum order quantity\n",
        "\n",
        "# User inputs\n",
        "try:\n",
        "    # Taking input for prices\n",
        "    prices = list(map(float, input(\"Enter the prices of the smartphone over time (comma-separated): \").split(',')))\n",
        "\n",
        "    # Taking input for stock levels\n",
        "    stock_levels = list(map(int, input(\"Enter the stock levels over time (comma-separated): \").split(',')))\n",
        "\n",
        "    # Ensure the lengths of inputs match\n",
        "    if len(prices) != len(stock_levels):\n",
        "        raise ValueError(\"The number of prices and stock levels must match.\")\n",
        "except ValueError as e:\n",
        "    print(f\"Invalid input: {e}\")\n",
        "    exit()\n",
        "\n",
        "# Decision-making\n",
        "tobuy = []\n",
        "for price, stock in zip(prices, stock_levels):\n",
        "    if stock < critical_stock_level:\n",
        "        # Critical stock level: order minimum quantity\n",
        "        tobuy.append(minimum_order_quantity)\n",
        "    elif price < (1 - threshold_discount) * average_price:\n",
        "        # Significant price drop: order more units\n",
        "        tobuy.append(15)\n",
        "    else:\n",
        "        # No order\n",
        "        tobuy.append(0)\n",
        "\n",
        "# Visualizing the decision process\n",
        "plt.figure(figsize=(10, 6))\n",
        "\n",
        "# Stock levels graph\n",
        "plt.plot(stock_levels, label=\"Stock Levels\", marker=\"o\")\n",
        "\n",
        "# Prices graph\n",
        "plt.plot(prices, label=\"Prices\", marker=\"o\")\n",
        "\n",
        "# Orders graph\n",
        "plt.plot(tobuy, label=\"Units Ordered\", marker=\"o\", linestyle=\"--\")\n",
        "\n",
        "# Adding labels and title\n",
        "plt.title(\"Smartphone Inventory Management Agent\")\n",
        "plt.xlabel(\"Time (arbitrary units)\")\n",
        "plt.ylabel(\"Values\")\n",
        "plt.legend()\n",
        "plt.grid(True)\n",
        "plt.show()\n"
      ]
    }
  ]
}